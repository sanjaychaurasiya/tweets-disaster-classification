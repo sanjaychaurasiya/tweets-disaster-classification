{
 "cells": [
  {
   "cell_type": "code",
   "execution_count": 1,
   "id": "3e708118",
   "metadata": {
    "_cell_guid": "b1076dfc-b9ad-4769-8c92-a6c4dae69d19",
    "_uuid": "8f2839f25d086af736a60e9eeb907d3b93b6e0e5",
    "execution": {
     "iopub.execute_input": "2023-04-16T09:36:15.491251Z",
     "iopub.status.busy": "2023-04-16T09:36:15.490786Z",
     "iopub.status.idle": "2023-04-16T09:36:15.515015Z",
     "shell.execute_reply": "2023-04-16T09:36:15.512908Z"
    },
    "papermill": {
     "duration": 0.035243,
     "end_time": "2023-04-16T09:36:15.517415",
     "exception": false,
     "start_time": "2023-04-16T09:36:15.482172",
     "status": "completed"
    },
    "tags": []
   },
   "outputs": [
    {
     "name": "stdout",
     "output_type": "stream",
     "text": [
      "/kaggle/input/nlp-getting-started/sample_submission.csv\n",
      "/kaggle/input/nlp-getting-started/train.csv\n",
      "/kaggle/input/nlp-getting-started/test.csv\n",
      "/kaggle/input/universal-sentence-encoder/tensorflow2/universal-sentence-encoder/2/saved_model.pb\n",
      "/kaggle/input/universal-sentence-encoder/tensorflow2/universal-sentence-encoder/2/variables/variables.index\n",
      "/kaggle/input/universal-sentence-encoder/tensorflow2/universal-sentence-encoder/2/variables/variables.data-00000-of-00001\n"
     ]
    }
   ],
   "source": [
    "# This Python 3 environment comes with many helpful analytics libraries installed\n",
    "# It is defined by the kaggle/python Docker image: https://github.com/kaggle/docker-python\n",
    "# For example, here's several helpful packages to load\n",
    "\n",
    "import numpy as np # linear algebra\n",
    "import pandas as pd # data processing, CSV file I/O (e.g. pd.read_csv)\n",
    "\n",
    "# Input data files are available in the read-only \"../input/\" directory\n",
    "# For example, running this (by clicking run or pressing Shift+Enter) will list all files under the input directory\n",
    "\n",
    "import os\n",
    "for dirname, _, filenames in os.walk('/kaggle/input'):\n",
    "    for filename in filenames:\n",
    "        print(os.path.join(dirname, filename))\n",
    "\n",
    "# You can write up to 20GB to the current directory (/kaggle/working/) that gets preserved as output when you create a version using \"Save & Run All\" \n",
    "# You can also write temporary files to /kaggle/temp/, but they won't be saved outside of the current session"
   ]
  },
  {
   "cell_type": "markdown",
   "id": "1ef456b3",
   "metadata": {
    "papermill": {
     "duration": 0.005658,
     "end_time": "2023-04-16T09:36:15.529255",
     "exception": false,
     "start_time": "2023-04-16T09:36:15.523597",
     "status": "completed"
    },
    "tags": []
   },
   "source": [
    "## Importing the dataset"
   ]
  },
  {
   "cell_type": "code",
   "execution_count": 2,
   "id": "2229fd81",
   "metadata": {
    "execution": {
     "iopub.execute_input": "2023-04-16T09:36:15.542583Z",
     "iopub.status.busy": "2023-04-16T09:36:15.542202Z",
     "iopub.status.idle": "2023-04-16T09:36:15.612559Z",
     "shell.execute_reply": "2023-04-16T09:36:15.611380Z"
    },
    "papermill": {
     "duration": 0.080067,
     "end_time": "2023-04-16T09:36:15.615119",
     "exception": false,
     "start_time": "2023-04-16T09:36:15.535052",
     "status": "completed"
    },
    "tags": []
   },
   "outputs": [],
   "source": [
    "# Loading the files \n",
    "train_dataset = pd.read_csv(\"/kaggle/input/nlp-getting-started/train.csv\")\n",
    "test_dataset = pd.read_csv(\"/kaggle/input/nlp-getting-started/test.csv\")\n",
    "submission = pd.read_csv(\"/kaggle/input/nlp-getting-started/sample_submission.csv\")"
   ]
  },
  {
   "cell_type": "code",
   "execution_count": 3,
   "id": "0d796272",
   "metadata": {
    "execution": {
     "iopub.execute_input": "2023-04-16T09:36:15.629158Z",
     "iopub.status.busy": "2023-04-16T09:36:15.628799Z",
     "iopub.status.idle": "2023-04-16T09:36:15.658421Z",
     "shell.execute_reply": "2023-04-16T09:36:15.656872Z"
    },
    "papermill": {
     "duration": 0.039709,
     "end_time": "2023-04-16T09:36:15.661141",
     "exception": false,
     "start_time": "2023-04-16T09:36:15.621432",
     "status": "completed"
    },
    "tags": []
   },
   "outputs": [
    {
     "data": {
      "text/html": [
       "<div>\n",
       "<style scoped>\n",
       "    .dataframe tbody tr th:only-of-type {\n",
       "        vertical-align: middle;\n",
       "    }\n",
       "\n",
       "    .dataframe tbody tr th {\n",
       "        vertical-align: top;\n",
       "    }\n",
       "\n",
       "    .dataframe thead th {\n",
       "        text-align: right;\n",
       "    }\n",
       "</style>\n",
       "<table border=\"1\" class=\"dataframe\">\n",
       "  <thead>\n",
       "    <tr style=\"text-align: right;\">\n",
       "      <th></th>\n",
       "      <th>id</th>\n",
       "      <th>keyword</th>\n",
       "      <th>location</th>\n",
       "      <th>text</th>\n",
       "      <th>target</th>\n",
       "    </tr>\n",
       "  </thead>\n",
       "  <tbody>\n",
       "    <tr>\n",
       "      <th>0</th>\n",
       "      <td>1</td>\n",
       "      <td>NaN</td>\n",
       "      <td>NaN</td>\n",
       "      <td>Our Deeds are the Reason of this #earthquake M...</td>\n",
       "      <td>1</td>\n",
       "    </tr>\n",
       "    <tr>\n",
       "      <th>1</th>\n",
       "      <td>4</td>\n",
       "      <td>NaN</td>\n",
       "      <td>NaN</td>\n",
       "      <td>Forest fire near La Ronge Sask. Canada</td>\n",
       "      <td>1</td>\n",
       "    </tr>\n",
       "    <tr>\n",
       "      <th>2</th>\n",
       "      <td>5</td>\n",
       "      <td>NaN</td>\n",
       "      <td>NaN</td>\n",
       "      <td>All residents asked to 'shelter in place' are ...</td>\n",
       "      <td>1</td>\n",
       "    </tr>\n",
       "    <tr>\n",
       "      <th>3</th>\n",
       "      <td>6</td>\n",
       "      <td>NaN</td>\n",
       "      <td>NaN</td>\n",
       "      <td>13,000 people receive #wildfires evacuation or...</td>\n",
       "      <td>1</td>\n",
       "    </tr>\n",
       "    <tr>\n",
       "      <th>4</th>\n",
       "      <td>7</td>\n",
       "      <td>NaN</td>\n",
       "      <td>NaN</td>\n",
       "      <td>Just got sent this photo from Ruby #Alaska as ...</td>\n",
       "      <td>1</td>\n",
       "    </tr>\n",
       "  </tbody>\n",
       "</table>\n",
       "</div>"
      ],
      "text/plain": [
       "   id keyword location                                               text  \\\n",
       "0   1     NaN      NaN  Our Deeds are the Reason of this #earthquake M...   \n",
       "1   4     NaN      NaN             Forest fire near La Ronge Sask. Canada   \n",
       "2   5     NaN      NaN  All residents asked to 'shelter in place' are ...   \n",
       "3   6     NaN      NaN  13,000 people receive #wildfires evacuation or...   \n",
       "4   7     NaN      NaN  Just got sent this photo from Ruby #Alaska as ...   \n",
       "\n",
       "   target  \n",
       "0       1  \n",
       "1       1  \n",
       "2       1  \n",
       "3       1  \n",
       "4       1  "
      ]
     },
     "execution_count": 3,
     "metadata": {},
     "output_type": "execute_result"
    }
   ],
   "source": [
    "train_dataset.head()"
   ]
  },
  {
   "cell_type": "code",
   "execution_count": 4,
   "id": "2bef81db",
   "metadata": {
    "execution": {
     "iopub.execute_input": "2023-04-16T09:36:15.675169Z",
     "iopub.status.busy": "2023-04-16T09:36:15.674749Z",
     "iopub.status.idle": "2023-04-16T09:36:15.686616Z",
     "shell.execute_reply": "2023-04-16T09:36:15.685539Z"
    },
    "papermill": {
     "duration": 0.021206,
     "end_time": "2023-04-16T09:36:15.688688",
     "exception": false,
     "start_time": "2023-04-16T09:36:15.667482",
     "status": "completed"
    },
    "tags": []
   },
   "outputs": [
    {
     "data": {
      "text/html": [
       "<div>\n",
       "<style scoped>\n",
       "    .dataframe tbody tr th:only-of-type {\n",
       "        vertical-align: middle;\n",
       "    }\n",
       "\n",
       "    .dataframe tbody tr th {\n",
       "        vertical-align: top;\n",
       "    }\n",
       "\n",
       "    .dataframe thead th {\n",
       "        text-align: right;\n",
       "    }\n",
       "</style>\n",
       "<table border=\"1\" class=\"dataframe\">\n",
       "  <thead>\n",
       "    <tr style=\"text-align: right;\">\n",
       "      <th></th>\n",
       "      <th>id</th>\n",
       "      <th>keyword</th>\n",
       "      <th>location</th>\n",
       "      <th>text</th>\n",
       "    </tr>\n",
       "  </thead>\n",
       "  <tbody>\n",
       "    <tr>\n",
       "      <th>0</th>\n",
       "      <td>0</td>\n",
       "      <td>NaN</td>\n",
       "      <td>NaN</td>\n",
       "      <td>Just happened a terrible car crash</td>\n",
       "    </tr>\n",
       "    <tr>\n",
       "      <th>1</th>\n",
       "      <td>2</td>\n",
       "      <td>NaN</td>\n",
       "      <td>NaN</td>\n",
       "      <td>Heard about #earthquake is different cities, s...</td>\n",
       "    </tr>\n",
       "    <tr>\n",
       "      <th>2</th>\n",
       "      <td>3</td>\n",
       "      <td>NaN</td>\n",
       "      <td>NaN</td>\n",
       "      <td>there is a forest fire at spot pond, geese are...</td>\n",
       "    </tr>\n",
       "    <tr>\n",
       "      <th>3</th>\n",
       "      <td>9</td>\n",
       "      <td>NaN</td>\n",
       "      <td>NaN</td>\n",
       "      <td>Apocalypse lighting. #Spokane #wildfires</td>\n",
       "    </tr>\n",
       "    <tr>\n",
       "      <th>4</th>\n",
       "      <td>11</td>\n",
       "      <td>NaN</td>\n",
       "      <td>NaN</td>\n",
       "      <td>Typhoon Soudelor kills 28 in China and Taiwan</td>\n",
       "    </tr>\n",
       "  </tbody>\n",
       "</table>\n",
       "</div>"
      ],
      "text/plain": [
       "   id keyword location                                               text\n",
       "0   0     NaN      NaN                 Just happened a terrible car crash\n",
       "1   2     NaN      NaN  Heard about #earthquake is different cities, s...\n",
       "2   3     NaN      NaN  there is a forest fire at spot pond, geese are...\n",
       "3   9     NaN      NaN           Apocalypse lighting. #Spokane #wildfires\n",
       "4  11     NaN      NaN      Typhoon Soudelor kills 28 in China and Taiwan"
      ]
     },
     "execution_count": 4,
     "metadata": {},
     "output_type": "execute_result"
    }
   ],
   "source": [
    "test_dataset.head()"
   ]
  },
  {
   "cell_type": "markdown",
   "id": "ecb944ba",
   "metadata": {
    "papermill": {
     "duration": 0.005984,
     "end_time": "2023-04-16T09:36:15.701215",
     "exception": false,
     "start_time": "2023-04-16T09:36:15.695231",
     "status": "completed"
    },
    "tags": []
   },
   "source": [
    "## Extracting the Required columns from the dataset"
   ]
  },
  {
   "cell_type": "code",
   "execution_count": 5,
   "id": "9cb7c76c",
   "metadata": {
    "execution": {
     "iopub.execute_input": "2023-04-16T09:36:15.715529Z",
     "iopub.status.busy": "2023-04-16T09:36:15.715115Z",
     "iopub.status.idle": "2023-04-16T09:36:15.729214Z",
     "shell.execute_reply": "2023-04-16T09:36:15.728246Z"
    },
    "papermill": {
     "duration": 0.023587,
     "end_time": "2023-04-16T09:36:15.731091",
     "exception": false,
     "start_time": "2023-04-16T09:36:15.707504",
     "status": "completed"
    },
    "tags": []
   },
   "outputs": [
    {
     "data": {
      "text/html": [
       "<div>\n",
       "<style scoped>\n",
       "    .dataframe tbody tr th:only-of-type {\n",
       "        vertical-align: middle;\n",
       "    }\n",
       "\n",
       "    .dataframe tbody tr th {\n",
       "        vertical-align: top;\n",
       "    }\n",
       "\n",
       "    .dataframe thead th {\n",
       "        text-align: right;\n",
       "    }\n",
       "</style>\n",
       "<table border=\"1\" class=\"dataframe\">\n",
       "  <thead>\n",
       "    <tr style=\"text-align: right;\">\n",
       "      <th></th>\n",
       "      <th>text</th>\n",
       "      <th>target</th>\n",
       "    </tr>\n",
       "  </thead>\n",
       "  <tbody>\n",
       "    <tr>\n",
       "      <th>0</th>\n",
       "      <td>Our Deeds are the Reason of this #earthquake M...</td>\n",
       "      <td>1</td>\n",
       "    </tr>\n",
       "    <tr>\n",
       "      <th>1</th>\n",
       "      <td>Forest fire near La Ronge Sask. Canada</td>\n",
       "      <td>1</td>\n",
       "    </tr>\n",
       "    <tr>\n",
       "      <th>2</th>\n",
       "      <td>All residents asked to 'shelter in place' are ...</td>\n",
       "      <td>1</td>\n",
       "    </tr>\n",
       "    <tr>\n",
       "      <th>3</th>\n",
       "      <td>13,000 people receive #wildfires evacuation or...</td>\n",
       "      <td>1</td>\n",
       "    </tr>\n",
       "    <tr>\n",
       "      <th>4</th>\n",
       "      <td>Just got sent this photo from Ruby #Alaska as ...</td>\n",
       "      <td>1</td>\n",
       "    </tr>\n",
       "  </tbody>\n",
       "</table>\n",
       "</div>"
      ],
      "text/plain": [
       "                                                text  target\n",
       "0  Our Deeds are the Reason of this #earthquake M...       1\n",
       "1             Forest fire near La Ronge Sask. Canada       1\n",
       "2  All residents asked to 'shelter in place' are ...       1\n",
       "3  13,000 people receive #wildfires evacuation or...       1\n",
       "4  Just got sent this photo from Ruby #Alaska as ...       1"
      ]
     },
     "execution_count": 5,
     "metadata": {},
     "output_type": "execute_result"
    }
   ],
   "source": [
    "# Getting the text and target columns of the dataframe\n",
    "train_data = train_dataset[[\"text\", \"target\"]]\n",
    "train_data.head()"
   ]
  },
  {
   "cell_type": "code",
   "execution_count": 6,
   "id": "194464de",
   "metadata": {
    "execution": {
     "iopub.execute_input": "2023-04-16T09:36:15.746393Z",
     "iopub.status.busy": "2023-04-16T09:36:15.746052Z",
     "iopub.status.idle": "2023-04-16T09:36:15.755816Z",
     "shell.execute_reply": "2023-04-16T09:36:15.754234Z"
    },
    "papermill": {
     "duration": 0.020247,
     "end_time": "2023-04-16T09:36:15.757929",
     "exception": false,
     "start_time": "2023-04-16T09:36:15.737682",
     "status": "completed"
    },
    "tags": []
   },
   "outputs": [
    {
     "data": {
      "text/html": [
       "<div>\n",
       "<style scoped>\n",
       "    .dataframe tbody tr th:only-of-type {\n",
       "        vertical-align: middle;\n",
       "    }\n",
       "\n",
       "    .dataframe tbody tr th {\n",
       "        vertical-align: top;\n",
       "    }\n",
       "\n",
       "    .dataframe thead th {\n",
       "        text-align: right;\n",
       "    }\n",
       "</style>\n",
       "<table border=\"1\" class=\"dataframe\">\n",
       "  <thead>\n",
       "    <tr style=\"text-align: right;\">\n",
       "      <th></th>\n",
       "      <th>text</th>\n",
       "    </tr>\n",
       "  </thead>\n",
       "  <tbody>\n",
       "    <tr>\n",
       "      <th>0</th>\n",
       "      <td>Just happened a terrible car crash</td>\n",
       "    </tr>\n",
       "    <tr>\n",
       "      <th>1</th>\n",
       "      <td>Heard about #earthquake is different cities, s...</td>\n",
       "    </tr>\n",
       "    <tr>\n",
       "      <th>2</th>\n",
       "      <td>there is a forest fire at spot pond, geese are...</td>\n",
       "    </tr>\n",
       "    <tr>\n",
       "      <th>3</th>\n",
       "      <td>Apocalypse lighting. #Spokane #wildfires</td>\n",
       "    </tr>\n",
       "    <tr>\n",
       "      <th>4</th>\n",
       "      <td>Typhoon Soudelor kills 28 in China and Taiwan</td>\n",
       "    </tr>\n",
       "  </tbody>\n",
       "</table>\n",
       "</div>"
      ],
      "text/plain": [
       "                                                text\n",
       "0                 Just happened a terrible car crash\n",
       "1  Heard about #earthquake is different cities, s...\n",
       "2  there is a forest fire at spot pond, geese are...\n",
       "3           Apocalypse lighting. #Spokane #wildfires\n",
       "4      Typhoon Soudelor kills 28 in China and Taiwan"
      ]
     },
     "execution_count": 6,
     "metadata": {},
     "output_type": "execute_result"
    }
   ],
   "source": [
    "test_data = test_dataset[[\"text\"]]\n",
    "test_data.head()"
   ]
  },
  {
   "cell_type": "code",
   "execution_count": 7,
   "id": "c24de956",
   "metadata": {
    "execution": {
     "iopub.execute_input": "2023-04-16T09:36:15.773705Z",
     "iopub.status.busy": "2023-04-16T09:36:15.773088Z",
     "iopub.status.idle": "2023-04-16T09:36:15.785877Z",
     "shell.execute_reply": "2023-04-16T09:36:15.784780Z"
    },
    "papermill": {
     "duration": 0.022794,
     "end_time": "2023-04-16T09:36:15.788183",
     "exception": false,
     "start_time": "2023-04-16T09:36:15.765389",
     "status": "completed"
    },
    "tags": []
   },
   "outputs": [
    {
     "data": {
      "text/plain": [
       "0    4342\n",
       "1    3271\n",
       "Name: target, dtype: int64"
      ]
     },
     "execution_count": 7,
     "metadata": {},
     "output_type": "execute_result"
    }
   ],
   "source": [
    "# Getting the value count of each type of labels\n",
    "train_data.target.value_counts()"
   ]
  },
  {
   "cell_type": "markdown",
   "id": "ec2848bc",
   "metadata": {
    "papermill": {
     "duration": 0.006628,
     "end_time": "2023-04-16T09:36:15.801860",
     "exception": false,
     "start_time": "2023-04-16T09:36:15.795232",
     "status": "completed"
    },
    "tags": []
   },
   "source": [
    "## Spliting the train data into train and test set"
   ]
  },
  {
   "cell_type": "code",
   "execution_count": 8,
   "id": "1a31a533",
   "metadata": {
    "execution": {
     "iopub.execute_input": "2023-04-16T09:36:15.817501Z",
     "iopub.status.busy": "2023-04-16T09:36:15.816835Z",
     "iopub.status.idle": "2023-04-16T09:36:16.840208Z",
     "shell.execute_reply": "2023-04-16T09:36:16.838840Z"
    },
    "papermill": {
     "duration": 1.03391,
     "end_time": "2023-04-16T09:36:16.842530",
     "exception": false,
     "start_time": "2023-04-16T09:36:15.808620",
     "status": "completed"
    },
    "tags": []
   },
   "outputs": [
    {
     "data": {
      "text/plain": [
       "(6851, 762, 6851, 762)"
      ]
     },
     "execution_count": 8,
     "metadata": {},
     "output_type": "execute_result"
    }
   ],
   "source": [
    "from sklearn.model_selection import train_test_split\n",
    "\n",
    "train_sentences, test_sentences, train_labels, test_labels = train_test_split(train_data[\"text\"].to_numpy(),\n",
    "                                                                              train_data[\"target\"].to_numpy(),\n",
    "                                                                              test_size=0.1)\n",
    "len(train_sentences), len(test_sentences), len(train_labels), len(test_labels)"
   ]
  },
  {
   "cell_type": "markdown",
   "id": "a8f0a80f",
   "metadata": {
    "papermill": {
     "duration": 0.006516,
     "end_time": "2023-04-16T09:36:16.855935",
     "exception": false,
     "start_time": "2023-04-16T09:36:16.849419",
     "status": "completed"
    },
    "tags": []
   },
   "source": [
    "## Converting the Texts into numbers\n"
   ]
  },
  {
   "cell_type": "code",
   "execution_count": 9,
   "id": "2e9fe359",
   "metadata": {
    "execution": {
     "iopub.execute_input": "2023-04-16T09:36:16.870942Z",
     "iopub.status.busy": "2023-04-16T09:36:16.870533Z",
     "iopub.status.idle": "2023-04-16T09:36:39.591272Z",
     "shell.execute_reply": "2023-04-16T09:36:39.589733Z"
    },
    "papermill": {
     "duration": 22.73152,
     "end_time": "2023-04-16T09:36:39.594091",
     "exception": false,
     "start_time": "2023-04-16T09:36:16.862571",
     "status": "completed"
    },
    "tags": []
   },
   "outputs": [],
   "source": [
    "import tensorflow_hub as hub\n",
    "import tensorflow as tf\n",
    "    \n",
    "universal_sentence_encoder = hub.KerasLayer('https://kaggle.com/models/google/universal-sentence-encoder/frameworks/TensorFlow2/variations/universal-sentence-encoder/versions/2')\n",
    "\n",
    "# Set the random seed \n",
    "tf.keras.utils.set_random_seed(4)\n",
    "\n",
    "# Create a model\n",
    "model = tf.keras.models.Sequential([\n",
    "    universal_sentence_encoder,\n",
    "    tf.keras.layers.Dense(units=128, activation=\"relu\"),\n",
    "    tf.keras.layers.Dense(units=64, activation=\"relu\"),\n",
    "    tf.keras.layers.Dense(units=32, activation=\"relu\"),\n",
    "    tf.keras.layers.Dense(units=16, activation=\"relu\"),\n",
    "    tf.keras.layers.Dropout(rate=0.5),\n",
    "    tf.keras.layers.Dense(units=1, activation=\"sigmoid\")\n",
    "], name=\"universal_sentence_encoder\")\n",
    "\n",
    "# Compile the model \n",
    "model.compile(loss=tf.keras.losses.BinaryCrossentropy(),\n",
    "             optimizer=tf.keras.optimizers.Adam(learning_rate=0.001),\n",
    "             metrics=[\"accuracy\"])"
   ]
  },
  {
   "cell_type": "code",
   "execution_count": 10,
   "id": "d05fd796",
   "metadata": {
    "execution": {
     "iopub.execute_input": "2023-04-16T09:36:39.610171Z",
     "iopub.status.busy": "2023-04-16T09:36:39.609805Z",
     "iopub.status.idle": "2023-04-16T09:37:18.945347Z",
     "shell.execute_reply": "2023-04-16T09:37:18.943662Z"
    },
    "papermill": {
     "duration": 39.346903,
     "end_time": "2023-04-16T09:37:18.948166",
     "exception": false,
     "start_time": "2023-04-16T09:36:39.601263",
     "status": "completed"
    },
    "tags": []
   },
   "outputs": [
    {
     "name": "stdout",
     "output_type": "stream",
     "text": [
      "Epoch 1/100\n",
      "215/215 [==============================] - 9s 27ms/step - loss: 0.5242 - accuracy: 0.7632 - val_loss: 0.4050 - val_accuracy: 0.8268 - lr: 0.0010\n",
      "Epoch 2/100\n",
      "215/215 [==============================] - 5s 23ms/step - loss: 0.4302 - accuracy: 0.8205 - val_loss: 0.3895 - val_accuracy: 0.8215 - lr: 0.0010\n",
      "Epoch 3/100\n",
      "215/215 [==============================] - 4s 21ms/step - loss: 0.3993 - accuracy: 0.8368 - val_loss: 0.3806 - val_accuracy: 0.8399 - lr: 0.0010\n",
      "Epoch 4/100\n",
      "215/215 [==============================] - 4s 19ms/step - loss: 0.3676 - accuracy: 0.8524 - val_loss: 0.3917 - val_accuracy: 0.8268 - lr: 0.0010\n",
      "Epoch 5/100\n",
      "215/215 [==============================] - 4s 18ms/step - loss: 0.3188 - accuracy: 0.8733 - val_loss: 0.4193 - val_accuracy: 0.8228 - lr: 0.0010\n",
      "Epoch 6/100\n",
      "215/215 [==============================] - 4s 19ms/step - loss: 0.2471 - accuracy: 0.9066 - val_loss: 0.4389 - val_accuracy: 0.8346 - lr: 2.0000e-04\n",
      "Epoch 7/100\n",
      "215/215 [==============================] - 4s 18ms/step - loss: 0.2140 - accuracy: 0.9228 - val_loss: 0.4721 - val_accuracy: 0.8294 - lr: 2.0000e-04\n",
      "Epoch 8/100\n",
      "215/215 [==============================] - 5s 21ms/step - loss: 0.1877 - accuracy: 0.9359 - val_loss: 0.4782 - val_accuracy: 0.8281 - lr: 4.0000e-05\n"
     ]
    }
   ],
   "source": [
    "# Now fit the model\n",
    "history = model.fit(x=train_sentences,\n",
    "                   y=train_labels,\n",
    "                   epochs=100,\n",
    "                   validation_data=(test_sentences, test_labels),\n",
    "                   validation_steps=len(test_sentences),\n",
    "                   callbacks=[tf.keras.callbacks.EarlyStopping(monitor=\"val_loss\",\n",
    "                                                               patience=5,\n",
    "                                                               restore_best_weights=True),\n",
    "                             tf.keras.callbacks.ReduceLROnPlateau(monitor=\"val_loss\",\n",
    "                                                                  factor=0.2,\n",
    "                                                                  patience=2,\n",
    "                                                                  min_lr=1e-5)\n",
    "                             ])"
   ]
  },
  {
   "cell_type": "markdown",
   "id": "9993b5c2",
   "metadata": {
    "papermill": {
     "duration": 0.023277,
     "end_time": "2023-04-16T09:37:18.994665",
     "exception": false,
     "start_time": "2023-04-16T09:37:18.971388",
     "status": "completed"
    },
    "tags": []
   },
   "source": [
    "## Evaluating the model on complete Validation data"
   ]
  },
  {
   "cell_type": "code",
   "execution_count": 11,
   "id": "7d50f596",
   "metadata": {
    "execution": {
     "iopub.execute_input": "2023-04-16T09:37:19.041745Z",
     "iopub.status.busy": "2023-04-16T09:37:19.041372Z",
     "iopub.status.idle": "2023-04-16T09:37:24.756308Z",
     "shell.execute_reply": "2023-04-16T09:37:24.754671Z"
    },
    "papermill": {
     "duration": 5.74085,
     "end_time": "2023-04-16T09:37:24.758496",
     "exception": false,
     "start_time": "2023-04-16T09:37:19.017646",
     "status": "completed"
    },
    "tags": []
   },
   "outputs": [
    {
     "name": "stdout",
     "output_type": "stream",
     "text": [
      "24/24 [==============================] - 1s 8ms/step - loss: 0.3806 - accuracy: 0.8399\n"
     ]
    },
    {
     "data": {
      "text/plain": [
       "[0.3805672526359558, 0.8398950099945068]"
      ]
     },
     "execution_count": 11,
     "metadata": {},
     "output_type": "execute_result"
    }
   ],
   "source": [
    "model.evaluate(test_sentences, test_labels)"
   ]
  },
  {
   "cell_type": "markdown",
   "id": "666ef7a3",
   "metadata": {
    "papermill": {
     "duration": 0.023648,
     "end_time": "2023-04-16T09:37:24.806001",
     "exception": false,
     "start_time": "2023-04-16T09:37:24.782353",
     "status": "completed"
    },
    "tags": []
   },
   "source": [
    "## Making prediction on Validation Data"
   ]
  },
  {
   "cell_type": "code",
   "execution_count": 12,
   "id": "dfbd5b58",
   "metadata": {
    "execution": {
     "iopub.execute_input": "2023-04-16T09:37:24.856583Z",
     "iopub.status.busy": "2023-04-16T09:37:24.855715Z",
     "iopub.status.idle": "2023-04-16T09:37:25.474347Z",
     "shell.execute_reply": "2023-04-16T09:37:25.473463Z"
    },
    "papermill": {
     "duration": 0.646952,
     "end_time": "2023-04-16T09:37:25.476394",
     "exception": false,
     "start_time": "2023-04-16T09:37:24.829442",
     "status": "completed"
    },
    "tags": []
   },
   "outputs": [
    {
     "name": "stdout",
     "output_type": "stream",
     "text": [
      "24/24 [==============================] - 1s 8ms/step\n"
     ]
    },
    {
     "data": {
      "text/plain": [
       "array([[0.25631174],\n",
       "       [0.78821135],\n",
       "       [0.09857474],\n",
       "       [0.07307582],\n",
       "       [0.93165064],\n",
       "       [0.08283526],\n",
       "       [0.64884526],\n",
       "       [0.02097438],\n",
       "       [0.01065053],\n",
       "       [0.85442305]], dtype=float32)"
      ]
     },
     "execution_count": 12,
     "metadata": {},
     "output_type": "execute_result"
    }
   ],
   "source": [
    "model_pred_probs = model.predict(test_sentences)\n",
    "model_pred_probs[:10]"
   ]
  },
  {
   "cell_type": "code",
   "execution_count": 13,
   "id": "eb1caff8",
   "metadata": {
    "execution": {
     "iopub.execute_input": "2023-04-16T09:37:25.527288Z",
     "iopub.status.busy": "2023-04-16T09:37:25.526638Z",
     "iopub.status.idle": "2023-04-16T09:37:25.539297Z",
     "shell.execute_reply": "2023-04-16T09:37:25.538265Z"
    },
    "papermill": {
     "duration": 0.041046,
     "end_time": "2023-04-16T09:37:25.541310",
     "exception": false,
     "start_time": "2023-04-16T09:37:25.500264",
     "status": "completed"
    },
    "tags": []
   },
   "outputs": [
    {
     "data": {
      "text/plain": [
       "<tf.Tensor: shape=(10,), dtype=float32, numpy=array([0., 1., 0., 0., 1., 0., 1., 0., 0., 1.], dtype=float32)>"
      ]
     },
     "execution_count": 13,
     "metadata": {},
     "output_type": "execute_result"
    }
   ],
   "source": [
    "# Getting the predictions \n",
    "model_preds = tf.round(tf.squeeze(model_pred_probs))\n",
    "model_preds[:10]"
   ]
  },
  {
   "cell_type": "code",
   "execution_count": 14,
   "id": "7e2804ad",
   "metadata": {
    "execution": {
     "iopub.execute_input": "2023-04-16T09:37:25.593378Z",
     "iopub.status.busy": "2023-04-16T09:37:25.593028Z",
     "iopub.status.idle": "2023-04-16T09:37:25.602789Z",
     "shell.execute_reply": "2023-04-16T09:37:25.601713Z"
    },
    "papermill": {
     "duration": 0.040496,
     "end_time": "2023-04-16T09:37:25.605737",
     "exception": false,
     "start_time": "2023-04-16T09:37:25.565241",
     "status": "completed"
    },
    "tags": []
   },
   "outputs": [
    {
     "name": "stdout",
     "output_type": "stream",
     "text": [
      "Accuracy: 0.8398950131233596\n",
      "\n",
      "Precision: 0.8397868218014599\n",
      "\n",
      "Recall: 0.8398950131233596\n",
      "\n",
      "F1-Score: 0.8391223417458902\n",
      "\n",
      "Support: None\n"
     ]
    }
   ],
   "source": [
    "# Getting the values of different evaluation metrics\n",
    "from sklearn.metrics import accuracy_score, precision_recall_fscore_support\n",
    "\n",
    "accuracy = accuracy_score(y_true=test_labels,\n",
    "                   y_pred=model_preds)\n",
    "precision, recall, f1_score, support = precision_recall_fscore_support(y_true=test_labels,\n",
    "                                                                      y_pred=model_preds,\n",
    "                                                                      average=\"weighted\")\n",
    "print(f\"\"\"Accuracy: {accuracy}\\n\n",
    "Precision: {precision}\\n\n",
    "Recall: {recall}\\n\n",
    "F1-Score: {f1_score}\\n\n",
    "Support: {support}\"\"\")"
   ]
  },
  {
   "cell_type": "markdown",
   "id": "090284a7",
   "metadata": {
    "papermill": {
     "duration": 0.02453,
     "end_time": "2023-04-16T09:37:25.659159",
     "exception": false,
     "start_time": "2023-04-16T09:37:25.634629",
     "status": "completed"
    },
    "tags": []
   },
   "source": [
    "## Plot the Loss Curves"
   ]
  },
  {
   "cell_type": "code",
   "execution_count": 15,
   "id": "c0685ed4",
   "metadata": {
    "execution": {
     "iopub.execute_input": "2023-04-16T09:37:25.712102Z",
     "iopub.status.busy": "2023-04-16T09:37:25.711688Z",
     "iopub.status.idle": "2023-04-16T09:37:26.160575Z",
     "shell.execute_reply": "2023-04-16T09:37:26.159209Z"
    },
    "papermill": {
     "duration": 0.477872,
     "end_time": "2023-04-16T09:37:26.163562",
     "exception": false,
     "start_time": "2023-04-16T09:37:25.685690",
     "status": "completed"
    },
    "tags": []
   },
   "outputs": [
    {
     "data": {
      "text/plain": [
       "<matplotlib.legend.Legend at 0x79858f6bd250>"
      ]
     },
     "execution_count": 15,
     "metadata": {},
     "output_type": "execute_result"
    },
    {
     "data": {
      "image/png": "[encoded data removed]",
      "text/plain": [
       "<Figure size 640x480 with 1 Axes>"
      ]
     },
     "metadata": {},
     "output_type": "display_data"
    },
    {
     "data": {
      "image/png": "[encoded data removed]",
      "text/plain": [
       "<Figure size 640x480 with 1 Axes>"
      ]
     },
     "metadata": {},
     "output_type": "display_data"
    }
   ],
   "source": [
    "import matplotlib.pyplot as plt\n",
    "\n",
    "# Getting the Training accuracy and loss values\n",
    "accuracy = history.history[\"accuracy\"]\n",
    "loss = history.history[\"loss\"]\n",
    "\n",
    "# Getting the Validation accuracy and loss values\n",
    "val_accuracy = history.history[\"val_accuracy\"]\n",
    "val_loss = history.history[\"val_loss\"]\n",
    "\n",
    "epochs = range(len(history.history[\"accuracy\"]))\n",
    "\n",
    "# Plot the loss and accuracy curves\n",
    "plt.plot(epochs, accuracy, label=\"Training Accuracy\")\n",
    "plt.plot(epochs, loss, label=\"Training Loss\")\n",
    "plt.title(\"Training Accuracy and Loss Curves\")\n",
    "plt.xlabel(\"Epochs\")\n",
    "plt.legend()\n",
    "\n",
    "# Plot the loss and accuracy curves of validation data\n",
    "plt.figure()\n",
    "plt.plot(epochs, val_accuracy, label=\"Validation Accuracy\")\n",
    "plt.plot(epochs, val_loss, label=\"Validation Loss\")\n",
    "plt.title(\"Validation Accuracy and Loss Curves\")\n",
    "plt.xlabel(\"Epochs\")\n",
    "plt.legend()"
   ]
  },
  {
   "cell_type": "markdown",
   "id": "902eb37d",
   "metadata": {
    "papermill": {
     "duration": 0.025231,
     "end_time": "2023-04-16T09:37:26.216907",
     "exception": false,
     "start_time": "2023-04-16T09:37:26.191676",
     "status": "completed"
    },
    "tags": []
   },
   "source": [
    "## Making predictions on Test Data"
   ]
  },
  {
   "cell_type": "code",
   "execution_count": 16,
   "id": "944e4a6f",
   "metadata": {
    "execution": {
     "iopub.execute_input": "2023-04-16T09:37:26.271044Z",
     "iopub.status.busy": "2023-04-16T09:37:26.269701Z",
     "iopub.status.idle": "2023-04-16T09:37:26.281452Z",
     "shell.execute_reply": "2023-04-16T09:37:26.280649Z"
    },
    "papermill": {
     "duration": 0.041232,
     "end_time": "2023-04-16T09:37:26.283602",
     "exception": false,
     "start_time": "2023-04-16T09:37:26.242370",
     "status": "completed"
    },
    "tags": []
   },
   "outputs": [
    {
     "data": {
      "text/html": [
       "<div>\n",
       "<style scoped>\n",
       "    .dataframe tbody tr th:only-of-type {\n",
       "        vertical-align: middle;\n",
       "    }\n",
       "\n",
       "    .dataframe tbody tr th {\n",
       "        vertical-align: top;\n",
       "    }\n",
       "\n",
       "    .dataframe thead th {\n",
       "        text-align: right;\n",
       "    }\n",
       "</style>\n",
       "<table border=\"1\" class=\"dataframe\">\n",
       "  <thead>\n",
       "    <tr style=\"text-align: right;\">\n",
       "      <th></th>\n",
       "      <th>text</th>\n",
       "    </tr>\n",
       "  </thead>\n",
       "  <tbody>\n",
       "    <tr>\n",
       "      <th>0</th>\n",
       "      <td>Just happened a terrible car crash</td>\n",
       "    </tr>\n",
       "    <tr>\n",
       "      <th>1</th>\n",
       "      <td>Heard about #earthquake is different cities, s...</td>\n",
       "    </tr>\n",
       "    <tr>\n",
       "      <th>2</th>\n",
       "      <td>there is a forest fire at spot pond, geese are...</td>\n",
       "    </tr>\n",
       "    <tr>\n",
       "      <th>3</th>\n",
       "      <td>Apocalypse lighting. #Spokane #wildfires</td>\n",
       "    </tr>\n",
       "    <tr>\n",
       "      <th>4</th>\n",
       "      <td>Typhoon Soudelor kills 28 in China and Taiwan</td>\n",
       "    </tr>\n",
       "    <tr>\n",
       "      <th>...</th>\n",
       "      <td>...</td>\n",
       "    </tr>\n",
       "    <tr>\n",
       "      <th>3258</th>\n",
       "      <td>EARTHQUAKE SAFETY LOS ANGELES ÛÒ SAFETY FASTE...</td>\n",
       "    </tr>\n",
       "    <tr>\n",
       "      <th>3259</th>\n",
       "      <td>Storm in RI worse than last hurricane. My city...</td>\n",
       "    </tr>\n",
       "    <tr>\n",
       "      <th>3260</th>\n",
       "      <td>Green Line derailment in Chicago http://t.co/U...</td>\n",
       "    </tr>\n",
       "    <tr>\n",
       "      <th>3261</th>\n",
       "      <td>MEG issues Hazardous Weather Outlook (HWO) htt...</td>\n",
       "    </tr>\n",
       "    <tr>\n",
       "      <th>3262</th>\n",
       "      <td>#CityofCalgary has activated its Municipal Eme...</td>\n",
       "    </tr>\n",
       "  </tbody>\n",
       "</table>\n",
       "<p>3263 rows × 1 columns</p>\n",
       "</div>"
      ],
      "text/plain": [
       "                                                   text\n",
       "0                    Just happened a terrible car crash\n",
       "1     Heard about #earthquake is different cities, s...\n",
       "2     there is a forest fire at spot pond, geese are...\n",
       "3              Apocalypse lighting. #Spokane #wildfires\n",
       "4         Typhoon Soudelor kills 28 in China and Taiwan\n",
       "...                                                 ...\n",
       "3258  EARTHQUAKE SAFETY LOS ANGELES ÛÒ SAFETY FASTE...\n",
       "3259  Storm in RI worse than last hurricane. My city...\n",
       "3260  Green Line derailment in Chicago http://t.co/U...\n",
       "3261  MEG issues Hazardous Weather Outlook (HWO) htt...\n",
       "3262  #CityofCalgary has activated its Municipal Eme...\n",
       "\n",
       "[3263 rows x 1 columns]"
      ]
     },
     "execution_count": 16,
     "metadata": {},
     "output_type": "execute_result"
    }
   ],
   "source": [
    "test_data"
   ]
  },
  {
   "cell_type": "code",
   "execution_count": 17,
   "id": "663ab3fe",
   "metadata": {
    "execution": {
     "iopub.execute_input": "2023-04-16T09:37:26.340113Z",
     "iopub.status.busy": "2023-04-16T09:37:26.339743Z",
     "iopub.status.idle": "2023-04-16T09:37:27.665662Z",
     "shell.execute_reply": "2023-04-16T09:37:27.664491Z"
    },
    "papermill": {
     "duration": 1.355135,
     "end_time": "2023-04-16T09:37:27.667684",
     "exception": false,
     "start_time": "2023-04-16T09:37:26.312549",
     "status": "completed"
    },
    "tags": []
   },
   "outputs": [
    {
     "name": "stdout",
     "output_type": "stream",
     "text": [
      "102/102 [==============================] - 1s 7ms/step\n"
     ]
    },
    {
     "data": {
      "text/plain": [
       "<tf.Tensor: shape=(3263,), dtype=float32, numpy=array([0., 1., 1., ..., 1., 1., 1.], dtype=float32)>"
      ]
     },
     "execution_count": 17,
     "metadata": {},
     "output_type": "execute_result"
    }
   ],
   "source": [
    "pred_probs = model.predict(test_data[\"text\"].to_numpy())\n",
    "preds = tf.round(tf.squeeze(pred_probs))\n",
    "preds"
   ]
  },
  {
   "cell_type": "markdown",
   "id": "d18bd1a1",
   "metadata": {
    "papermill": {
     "duration": 0.026174,
     "end_time": "2023-04-16T09:37:27.720125",
     "exception": false,
     "start_time": "2023-04-16T09:37:27.693951",
     "status": "completed"
    },
    "tags": []
   },
   "source": [
    "## Saving the predicted labels into the Submission file"
   ]
  },
  {
   "cell_type": "code",
   "execution_count": 18,
   "id": "f446d82b",
   "metadata": {
    "execution": {
     "iopub.execute_input": "2023-04-16T09:37:27.774670Z",
     "iopub.status.busy": "2023-04-16T09:37:27.773398Z",
     "iopub.status.idle": "2023-04-16T09:37:28.496746Z",
     "shell.execute_reply": "2023-04-16T09:37:28.495500Z"
    },
    "papermill": {
     "duration": 0.753829,
     "end_time": "2023-04-16T09:37:28.499830",
     "exception": false,
     "start_time": "2023-04-16T09:37:27.746001",
     "status": "completed"
    },
    "tags": []
   },
   "outputs": [],
   "source": [
    "preds = [int(i) for i in preds]\n",
    "submission[\"target\"] = preds\n",
    "submission.to_csv('submission.csv', index=False)"
   ]
  },
  {
   "cell_type": "code",
   "execution_count": 19,
   "id": "06fc7edd",
   "metadata": {
    "execution": {
     "iopub.execute_input": "2023-04-16T09:37:28.554343Z",
     "iopub.status.busy": "2023-04-16T09:37:28.553964Z",
     "iopub.status.idle": "2023-04-16T09:37:28.562685Z",
     "shell.execute_reply": "2023-04-16T09:37:28.561921Z"
    },
    "papermill": {
     "duration": 0.038135,
     "end_time": "2023-04-16T09:37:28.564498",
     "exception": false,
     "start_time": "2023-04-16T09:37:28.526363",
     "status": "completed"
    },
    "tags": []
   },
   "outputs": [
    {
     "data": {
      "text/html": [
       "<div>\n",
       "<style scoped>\n",
       "    .dataframe tbody tr th:only-of-type {\n",
       "        vertical-align: middle;\n",
       "    }\n",
       "\n",
       "    .dataframe tbody tr th {\n",
       "        vertical-align: top;\n",
       "    }\n",
       "\n",
       "    .dataframe thead th {\n",
       "        text-align: right;\n",
       "    }\n",
       "</style>\n",
       "<table border=\"1\" class=\"dataframe\">\n",
       "  <thead>\n",
       "    <tr style=\"text-align: right;\">\n",
       "      <th></th>\n",
       "      <th>id</th>\n",
       "      <th>target</th>\n",
       "    </tr>\n",
       "  </thead>\n",
       "  <tbody>\n",
       "    <tr>\n",
       "      <th>0</th>\n",
       "      <td>0</td>\n",
       "      <td>0</td>\n",
       "    </tr>\n",
       "    <tr>\n",
       "      <th>1</th>\n",
       "      <td>2</td>\n",
       "      <td>1</td>\n",
       "    </tr>\n",
       "    <tr>\n",
       "      <th>2</th>\n",
       "      <td>3</td>\n",
       "      <td>1</td>\n",
       "    </tr>\n",
       "    <tr>\n",
       "      <th>3</th>\n",
       "      <td>9</td>\n",
       "      <td>1</td>\n",
       "    </tr>\n",
       "    <tr>\n",
       "      <th>4</th>\n",
       "      <td>11</td>\n",
       "      <td>1</td>\n",
       "    </tr>\n",
       "    <tr>\n",
       "      <th>5</th>\n",
       "      <td>12</td>\n",
       "      <td>0</td>\n",
       "    </tr>\n",
       "    <tr>\n",
       "      <th>6</th>\n",
       "      <td>21</td>\n",
       "      <td>0</td>\n",
       "    </tr>\n",
       "    <tr>\n",
       "      <th>7</th>\n",
       "      <td>22</td>\n",
       "      <td>0</td>\n",
       "    </tr>\n",
       "    <tr>\n",
       "      <th>8</th>\n",
       "      <td>27</td>\n",
       "      <td>0</td>\n",
       "    </tr>\n",
       "    <tr>\n",
       "      <th>9</th>\n",
       "      <td>29</td>\n",
       "      <td>0</td>\n",
       "    </tr>\n",
       "  </tbody>\n",
       "</table>\n",
       "</div>"
      ],
      "text/plain": [
       "   id  target\n",
       "0   0       0\n",
       "1   2       1\n",
       "2   3       1\n",
       "3   9       1\n",
       "4  11       1\n",
       "5  12       0\n",
       "6  21       0\n",
       "7  22       0\n",
       "8  27       0\n",
       "9  29       0"
      ]
     },
     "execution_count": 19,
     "metadata": {},
     "output_type": "execute_result"
    }
   ],
   "source": [
    "submission[:10]\n"
   ]
  },
  {
   "cell_type": "code",
   "execution_count": null,
   "id": "17952557",
   "metadata": {
    "papermill": {
     "duration": 0.025656,
     "end_time": "2023-04-16T09:37:28.616820",
     "exception": false,
     "start_time": "2023-04-16T09:37:28.591164",
     "status": "completed"
    },
    "tags": []
   },
   "outputs": [],
   "source": []
  }
 ],
 "metadata": {
  "kernelspec": {
   "display_name": "Python 3",
   "language": "python",
   "name": "python3"
  },
  "language_info": {
   "codemirror_mode": {
    "name": "ipython",
    "version": 3
   },
   "file_extension": ".py",
   "mimetype": "text/x-python",
   "name": "python",
   "nbconvert_exporter": "python",
   "pygments_lexer": "ipython3",
   "version": "3.7.12"
  },
  "papermill": {
   "default_parameters": {},
   "duration": 85.451768,
   "end_time": "2023-04-16T09:37:32.315909",
   "environment_variables": {},
   "exception": null,
   "input_path": "__notebook__.ipynb",
   "output_path": "__notebook__.ipynb",
   "parameters": {},
   "start_time": "2023-04-16T09:36:06.864141",
   "version": "2.4.0"
  }
 },
 "nbformat": 4,
 "nbformat_minor": 5
}
